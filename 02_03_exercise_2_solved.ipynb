{
  "nbformat": 4,
  "nbformat_minor": 0,
  "metadata": {
    "colab": {
      "name": "02-03-exercise-2-solved.ipynb",
      "provenance": [],
      "collapsed_sections": [],
      "authorship_tag": "ABX9TyPb4ZcWbHMOVBMq6CXByhpu",
      "include_colab_link": true
    },
    "kernelspec": {
      "name": "python3",
      "display_name": "Python 3"
    },
    "accelerator": "GPU"
  },
  "cells": [
    {
      "cell_type": "markdown",
      "metadata": {
        "id": "view-in-github",
        "colab_type": "text"
      },
      "source": [
        "<a href=\"https://colab.research.google.com/github/sujitpal/keras-tutorial-osdc2020/blob/master/02_03_exercise_2_solved.ipynb\" target=\"_parent\"><img src=\"https://colab.research.google.com/assets/colab-badge.svg\" alt=\"Open In Colab\"/></a>"
      ]
    },
    {
      "cell_type": "markdown",
      "metadata": {
        "id": "-wMS3MvTiLfZ"
      },
      "source": [
        "# Exercise 2\n",
        "\n",
        "In this exercise we will put together things that we have learned in this session. Our tasks are as follows:\n",
        "\n",
        "* Build a transfer learning based classifier for the [CIFAR-10 dataset](https://www.tensorflow.org/api_docs/python/tf/keras/datasets/cifar10) by combining the base layers of an [VGG-16 model trained on ImageNet](https://www.tensorflow.org/api_docs/python/tf/keras/applications/VGG16) and a 2 layer Dense network.\n",
        "  * Make sure the output of the VGG16 is followed by a BatchNorm layer, and the Dense layers have Dropouts.\n",
        "* Train the network with transfer learning.\n",
        "* Evaluate the performance of the model against the CIFAR-10 test set.\n",
        "* Use the [ImageDataGenerator](https://www.tensorflow.org/api_docs/python/tf/keras/preprocessing/image/ImageDataGenerator) to do data augmentation and retrain the network.\n",
        "* Evaluate the performance again.\n",
        "* Use the Learning Rate Finder to determine a good range of learning rates for the model (with data augmentation).\n",
        "* Use a Cyclic Learning Rate (CLR) schedule to retrain the augmented transfer learning model.\n",
        "* Evaluate the performance again.\n",
        "* Present your findings.\n",
        "\n",
        "__NOTE__: Make sure you have your runtime set to GPU for this notebook."
      ]
    },
    {
      "cell_type": "code",
      "metadata": {
        "id": "xsLCCnNcmcbH"
      },
      "source": [
        "import matplotlib.pyplot as plt\n",
        "import numpy as np\n",
        "\n",
        "import tensorflow as tf\n",
        "import tensorflow.keras as keras\n",
        "\n",
        "%matplotlib inline"
      ],
      "execution_count": 1,
      "outputs": []
    },
    {
      "cell_type": "markdown",
      "metadata": {
        "id": "pUm7odA5l4Im"
      },
      "source": [
        "## Get the data\n",
        "\n",
        "We have already seen the CIFAR-10 dataset. From [it's website](https://www.cs.toronto.edu/~kriz/cifar.html), it is a collection of (32, 32, 3) color images, with 50,000 images in its training set and 10,000 images in its test set."
      ]
    },
    {
      "cell_type": "code",
      "metadata": {
        "id": "GtgwUrK5o5Fx"
      },
      "source": [
        "CIFAR10_CLASSES = [\n",
        "  \"airplane\", \"automobile\", \"bird\", \"cat\", \"deer\",\n",
        "  \"dog\", \"frog\", \"horse\", \"ship\", \"truck\"\n",
        "]"
      ],
      "execution_count": 2,
      "outputs": []
    },
    {
      "cell_type": "code",
      "metadata": {
        "id": "e5BdG8v5h_-0",
        "outputId": "3418725f-679f-4a4a-b554-d960a1d3fbf7",
        "colab": {
          "base_uri": "https://localhost:8080/",
          "height": 34
        }
      },
      "source": [
        "# TODO: get the data from Keras built-in datasets\n",
        "(Xtrain, ytrain), (Xtest, ytest) = keras.datasets.cifar10.load_data()\n",
        "print(Xtrain.shape, ytrain.shape, Xtest.shape, ytest.shape)"
      ],
      "execution_count": 3,
      "outputs": [
        {
          "output_type": "stream",
          "text": [
            "(50000, 32, 32, 3) (50000, 1) (10000, 32, 32, 3) (10000, 1)\n"
          ],
          "name": "stdout"
        }
      ]
    },
    {
      "cell_type": "code",
      "metadata": {
        "id": "Bs8iQLnzmxq5"
      },
      "source": [
        "# TODO: convert training and test labels to categorical (one-hot) format\n",
        "ytrain = keras.utils.to_categorical(ytrain, num_classes=len(CIFAR10_CLASSES))\n",
        "ytest = keras.utils.to_categorical(ytest, num_classes=len(CIFAR10_CLASSES))"
      ],
      "execution_count": 4,
      "outputs": []
    },
    {
      "cell_type": "markdown",
      "metadata": {
        "id": "_BOLRpF-pX3n"
      },
      "source": [
        "## Task 1: Build Transfer Learning Classifer\n",
        "\n",
        "Download the pre-trained InceptionV3 network from `keras.applications`, set it up as a layer, and add in your 3-layer Dense network.\n",
        "\n",
        "Remember to wrap the model in a `build_model` function, as you will be re-using the code to do this in later tasks as well.\n",
        "\n",
        "Compile the model using the Adam optimizer, Categorical Cross Entropy loss, and Accuracy metric."
      ]
    },
    {
      "cell_type": "code",
      "metadata": {
        "id": "NY-azvuApRjp"
      },
      "source": [
        "from keras.applications.vgg16 import VGG16, preprocess_input\n",
        "\n",
        "# TODO: download pretrained Inception V3 network (include_top=False)\n",
        "base_model = VGG16(weights=\"imagenet\", input_shape=(32, 32, 3), include_top=False)"
      ],
      "execution_count": 5,
      "outputs": []
    },
    {
      "cell_type": "code",
      "metadata": {
        "id": "0WZOkFH9qJLq"
      },
      "source": [
        "# TODO: preprocess the training and test images using the InceptionV3 means\n",
        "Xtrain = preprocess_input(Xtrain)\n",
        "Xtest = preprocess_input(Xtest)"
      ],
      "execution_count": 6,
      "outputs": []
    },
    {
      "cell_type": "code",
      "metadata": {
        "id": "KHvVXV9zraCz"
      },
      "source": [
        "# TODO: set up the model, remember to wrap this in a build_model() function.\n",
        "def build_model():\n",
        "  x = base_model.output\n",
        "  x = keras.layers.GlobalAveragePooling2D()(x)\n",
        "  x = keras.layers.BatchNormalization()(x)\n",
        "  x = keras.layers.Dropout(0.2)(x)\n",
        "  x = keras.layers.Dense(1024, activation='relu')(x)\n",
        "  x = keras.layers.Dropout(0.2)(x)\n",
        "  outputs = keras.layers.Dense(10, activation='softmax')(x)\n",
        "  model = keras.models.Model(inputs=base_model.input, outputs=outputs)\n",
        "\n",
        "# TODO: freeze the base model layers, i.e. make them non-trainable\n",
        "  for layer in base_model.layers:\n",
        "      layer.trainable = False\n",
        "\n",
        "  return model\n",
        "\n",
        "\n",
        "model_t1 = build_model()"
      ],
      "execution_count": 7,
      "outputs": []
    },
    {
      "cell_type": "code",
      "metadata": {
        "id": "GqdOzZKlreqS"
      },
      "source": [
        "# TODO: freeze the base model layers, i.e. make them non-trainable\n",
        "#       consider lifting this code block into your build_model function."
      ],
      "execution_count": 8,
      "outputs": []
    },
    {
      "cell_type": "code",
      "metadata": {
        "id": "5MpSGyBsr3bF"
      },
      "source": [
        "# TODO: compile the model with Adam optimizer, Categorical Cross Entropy loss\n",
        "#       and Accuracy metric.\n",
        "model_t1.compile(optimizer=\"adam\", loss=\"categorical_crossentropy\", \n",
        "                 metrics=[\"accuracy\"])"
      ],
      "execution_count": 9,
      "outputs": []
    },
    {
      "cell_type": "markdown",
      "metadata": {
        "id": "oqCvsS80suSm"
      },
      "source": [
        "## Task 2: Train Network\n",
        "\n",
        "Train the network for 50 epochs, using a batch size of 64. Use 20% of the training data for inline validation during the training."
      ]
    },
    {
      "cell_type": "code",
      "metadata": {
        "id": "gcN1uF5HsSJ3",
        "outputId": "e7bee1fc-7866-4396-9f7c-5f3721377908",
        "colab": {
          "base_uri": "https://localhost:8080/",
          "height": 377
        }
      },
      "source": [
        "# TODO: train network, save history for later\n",
        "history_t1 = model_t1.fit(Xtrain, ytrain, batch_size=64, epochs=10, validation_split=0.2)"
      ],
      "execution_count": 10,
      "outputs": [
        {
          "output_type": "stream",
          "text": [
            "Epoch 1/10\n",
            "625/625 [==============================] - 9s 14ms/step - loss: 1.2614 - accuracy: 0.5708 - val_loss: 1.0290 - val_accuracy: 0.6357\n",
            "Epoch 2/10\n",
            "625/625 [==============================] - 9s 14ms/step - loss: 1.0545 - accuracy: 0.6299 - val_loss: 0.9675 - val_accuracy: 0.6617\n",
            "Epoch 3/10\n",
            "625/625 [==============================] - 9s 14ms/step - loss: 0.9693 - accuracy: 0.6557 - val_loss: 0.9394 - val_accuracy: 0.6757\n",
            "Epoch 4/10\n",
            "625/625 [==============================] - 8s 14ms/step - loss: 0.9108 - accuracy: 0.6799 - val_loss: 0.9231 - val_accuracy: 0.6847\n",
            "Epoch 5/10\n",
            "625/625 [==============================] - 8s 13ms/step - loss: 0.8594 - accuracy: 0.6966 - val_loss: 0.9278 - val_accuracy: 0.6815\n",
            "Epoch 6/10\n",
            "625/625 [==============================] - 8s 13ms/step - loss: 0.8197 - accuracy: 0.7090 - val_loss: 0.9317 - val_accuracy: 0.6879\n",
            "Epoch 7/10\n",
            "625/625 [==============================] - 8s 13ms/step - loss: 0.7706 - accuracy: 0.7243 - val_loss: 0.9350 - val_accuracy: 0.6829\n",
            "Epoch 8/10\n",
            "625/625 [==============================] - 8s 13ms/step - loss: 0.7377 - accuracy: 0.7365 - val_loss: 0.9331 - val_accuracy: 0.6898\n",
            "Epoch 9/10\n",
            "625/625 [==============================] - 8s 13ms/step - loss: 0.6993 - accuracy: 0.7493 - val_loss: 0.9450 - val_accuracy: 0.6900\n",
            "Epoch 10/10\n",
            "625/625 [==============================] - 8s 13ms/step - loss: 0.6590 - accuracy: 0.7617 - val_loss: 0.9834 - val_accuracy: 0.6796\n"
          ],
          "name": "stdout"
        }
      ]
    },
    {
      "cell_type": "code",
      "metadata": {
        "id": "6v8AcO73tFWL"
      },
      "source": [
        "def plot_training_curves(history):\n",
        "  plt.figure(figsize=(10, 5))\n",
        "\n",
        "  plt.subplot(1, 2, 1)\n",
        "  plt.plot(history.history[\"loss\"], label=\"train\")\n",
        "  plt.plot(history.history[\"val_loss\"], label=\"validation\")\n",
        "  plt.xlabel(\"epochs\")\n",
        "  plt.ylabel(\"loss\")\n",
        "  plt.legend(loc=\"best\")\n",
        "\n",
        "  plt.subplot(1, 2, 2)  \n",
        "  plt.plot(history.history[\"accuracy\"], label=\"train\")\n",
        "  plt.plot(history.history[\"val_accuracy\"], label=\"validation\")\n",
        "  plt.xlabel(\"epochs\")\n",
        "  plt.ylabel(\"accuracy\")\n",
        "  plt.legend(loc=\"best\")\n",
        "\n",
        "\n",
        "  plt.tight_layout()\n",
        "  _ = plt.show()"
      ],
      "execution_count": 11,
      "outputs": []
    },
    {
      "cell_type": "code",
      "metadata": {
        "id": "te7fMxcF1wr4",
        "outputId": "14a96659-1efc-4893-a6f6-7db1a1239e8f",
        "colab": {
          "base_uri": "https://localhost:8080/",
          "height": 369
        }
      },
      "source": [
        "# TODO: plot the loss and accuracy plots for your training\n",
        "plot_training_curves(history_t1)"
      ],
      "execution_count": 12,
      "outputs": [
        {
          "output_type": "display_data",
          "data": {
            "image/png": "[encoded data removed]",
            "text/plain": [
              "<Figure size 720x360 with 2 Axes>"
            ]
          },
          "metadata": {
            "tags": [],
            "needs_background": "light"
          }
        }
      ]
    },
    {
      "cell_type": "markdown",
      "metadata": {
        "id": "Ttji0poA2WmD"
      },
      "source": [
        "## Task 3: Evaluate Network\n",
        "\n",
        "Use the `model.evaluate()` function against the test set. First element in the returned array is the test loss, and second element is the test accuracy."
      ]
    },
    {
      "cell_type": "code",
      "metadata": {
        "id": "g_pI5UWd2cBr",
        "outputId": "75cdab3c-1834-4715-bada-ef8613f5ce6b",
        "colab": {
          "base_uri": "https://localhost:8080/",
          "height": 51
        }
      },
      "source": [
        "# TODO: evaluate the network you just trained\n",
        "scores_t1 = model_t1.evaluate(Xtest, ytest)\n",
        "print(\"Model T1: test set loss: {:.5f}, accuracy: {:.5f}\".format(scores_t1[0], scores_t1[1]))"
      ],
      "execution_count": 13,
      "outputs": [
        {
          "output_type": "stream",
          "text": [
            "313/313 [==============================] - 3s 8ms/step - loss: 0.9803 - accuracy: 0.6823\n",
            "Model T1: test set loss: 0.98028, accuracy: 0.68230\n"
          ],
          "name": "stdout"
        }
      ]
    },
    {
      "cell_type": "markdown",
      "metadata": {
        "id": "-twdZocy2u7s"
      },
      "source": [
        "## Task 4: Augment Data and Retrain\n",
        "\n",
        "Data Augmentor should have the following parameters at minimum, plus any you feel is relevant to your dataset. See [ImageDataGenerator docs](https://www.tensorflow.org/api_docs/python/tf/keras/preprocessing/image/ImageDataGenerator) for full list of possible operations.\n",
        "\n",
        "* rotation_range = 30\n",
        "* width_shift_range = 0.2\n",
        "* height_shift_range = 0.2\n",
        "* horizontal_flip = True"
      ]
    },
    {
      "cell_type": "code",
      "metadata": {
        "id": "JAcml5vQ2mHk"
      },
      "source": [
        "from keras.preprocessing.image import ImageDataGenerator\n",
        "\n",
        "# TODO: declare an image data generator that allows the operations listed\n",
        "image_generator = ImageDataGenerator(\n",
        "    rotation_range=30,\n",
        "    width_shift_range=0.2,\n",
        "    height_shift_range=0.2,\n",
        "    horizontal_flip=True)"
      ],
      "execution_count": 14,
      "outputs": []
    },
    {
      "cell_type": "code",
      "metadata": {
        "id": "t2jwn_iI889Z"
      },
      "source": [
        "# TODO: define model (again, reuse by calling the build_model function you defined earlier)\n",
        "model_t2 = build_model()\n",
        "\n",
        "# TODO: compile this new model (call this model_t2 to differentiate from previous model)\n",
        "model_t2.compile(optimizer=\"adam\", loss=\"categorical_crossentropy\", metrics=[\"accuracy\"])"
      ],
      "execution_count": 15,
      "outputs": []
    },
    {
      "cell_type": "code",
      "metadata": {
        "id": "Ysa3P8wO98p2",
        "outputId": "e38ea0d9-c92a-4bbf-c2d4-5f9299236164",
        "colab": {
          "base_uri": "https://localhost:8080/",
          "height": 34
        }
      },
      "source": [
        "from sklearn.model_selection import train_test_split\n",
        "\n",
        "# TODO: split the training dataset 80/20 for training vs inline validation. This is \n",
        "#       because you don't want to get augmented versions of the validation set.\n",
        "X_train, X_val, y_train, y_val = train_test_split(Xtrain, ytrain, test_size=0.2, random_state=1)\n",
        "X_train.shape, y_train.shape, X_val.shape, y_val.shape"
      ],
      "execution_count": 16,
      "outputs": [
        {
          "output_type": "execute_result",
          "data": {
            "text/plain": [
              "((40000, 32, 32, 3), (40000, 10), (10000, 32, 32, 3), (10000, 10))"
            ]
          },
          "metadata": {
            "tags": []
          },
          "execution_count": 16
        }
      ]
    },
    {
      "cell_type": "code",
      "metadata": {
        "id": "bKFBNWGp9Lg8",
        "outputId": "5932b6d5-e937-425e-9c12-5dedff5f92ed",
        "colab": {
          "base_uri": "https://localhost:8080/",
          "height": 377
        }
      },
      "source": [
        "# TODO: fit the model using the ImageDataGenerator, using batch size of 64 and\n",
        "#       10 epochs of training.\n",
        "history_t2 = model_t2.fit(image_generator.flow(X_train, y_train, batch_size=64),\n",
        "                          steps_per_epoch=X_train.shape[0] // 64,\n",
        "                          epochs=10,\n",
        "                          validation_data=(X_val, y_val))"
      ],
      "execution_count": 17,
      "outputs": [
        {
          "output_type": "stream",
          "text": [
            "Epoch 1/10\n",
            "625/625 [==============================] - 22s 35ms/step - loss: 1.4760 - accuracy: 0.4897 - val_loss: 1.1180 - val_accuracy: 0.6005\n",
            "Epoch 2/10\n",
            "625/625 [==============================] - 22s 35ms/step - loss: 1.2940 - accuracy: 0.5426 - val_loss: 1.0522 - val_accuracy: 0.6295\n",
            "Epoch 3/10\n",
            "625/625 [==============================] - 22s 35ms/step - loss: 1.2540 - accuracy: 0.5536 - val_loss: 1.0530 - val_accuracy: 0.6288\n",
            "Epoch 4/10\n",
            "625/625 [==============================] - 22s 35ms/step - loss: 1.2242 - accuracy: 0.5639 - val_loss: 1.0090 - val_accuracy: 0.6461\n",
            "Epoch 5/10\n",
            "625/625 [==============================] - 22s 35ms/step - loss: 1.1982 - accuracy: 0.5744 - val_loss: 1.0095 - val_accuracy: 0.6480\n",
            "Epoch 6/10\n",
            "625/625 [==============================] - 22s 35ms/step - loss: 1.1850 - accuracy: 0.5784 - val_loss: 0.9822 - val_accuracy: 0.6612\n",
            "Epoch 7/10\n",
            "625/625 [==============================] - 22s 36ms/step - loss: 1.1649 - accuracy: 0.5875 - val_loss: 0.9973 - val_accuracy: 0.6497\n",
            "Epoch 8/10\n",
            "625/625 [==============================] - 22s 35ms/step - loss: 1.1554 - accuracy: 0.5903 - val_loss: 0.9766 - val_accuracy: 0.6592\n",
            "Epoch 9/10\n",
            "625/625 [==============================] - 22s 35ms/step - loss: 1.1563 - accuracy: 0.5850 - val_loss: 0.9733 - val_accuracy: 0.6615\n",
            "Epoch 10/10\n",
            "625/625 [==============================] - 22s 35ms/step - loss: 1.1380 - accuracy: 0.5998 - val_loss: 0.9745 - val_accuracy: 0.6645\n"
          ],
          "name": "stdout"
        }
      ]
    },
    {
      "cell_type": "code",
      "metadata": {
        "id": "22eirJIh-jNo",
        "outputId": "fa8c1ff0-ca82-4aa8-fbbd-9e61b8f931ec",
        "colab": {
          "base_uri": "https://localhost:8080/",
          "height": 369
        }
      },
      "source": [
        "# TODO: plot the loss and accuracy plots for your training\n",
        "plot_training_curves(history_t2)"
      ],
      "execution_count": 18,
      "outputs": [
        {
          "output_type": "display_data",
          "data": {
            "image/png": "[encoded data removed]",
            "text/plain": [
              "<Figure size 720x360 with 2 Axes>"
            ]
          },
          "metadata": {
            "tags": [],
            "needs_background": "light"
          }
        }
      ]
    },
    {
      "cell_type": "markdown",
      "metadata": {
        "id": "C3jr6zQw_6zm"
      },
      "source": [
        "## Task 5: Evaluate Performance"
      ]
    },
    {
      "cell_type": "code",
      "metadata": {
        "id": "Z0fZvNK5_y9u",
        "outputId": "5b50d678-b069-43d9-a0cf-5ccccd2d3b93",
        "colab": {
          "base_uri": "https://localhost:8080/",
          "height": 51
        }
      },
      "source": [
        "# TODO: evaluate the network you just trained\n",
        "scores_t2 = model_t2.evaluate(Xtest, ytest)\n",
        "print(\"Model T1: test set loss: {:.5f}, accuracy: {:.5f}\".format(scores_t2[0], scores_t2[1]))"
      ],
      "execution_count": 19,
      "outputs": [
        {
          "output_type": "stream",
          "text": [
            "313/313 [==============================] - 3s 8ms/step - loss: 0.9947 - accuracy: 0.6600\n",
            "Model T1: test set loss: 0.99466, accuracy: 0.66000\n"
          ],
          "name": "stdout"
        }
      ]
    },
    {
      "cell_type": "markdown",
      "metadata": {
        "id": "KyauCk2WOJh_"
      },
      "source": [
        "## Task 6: LR Finder\n",
        "\n",
        "We want to find a good range for Learning Rates to use with our Cyclic Learning Rate schedule."
      ]
    },
    {
      "cell_type": "code",
      "metadata": {
        "id": "6s3w9_neAB83"
      },
      "source": [
        "import math\n",
        "from keras.callbacks import LambdaCallback\n",
        "import numpy as np\n",
        "\n",
        "class LRFinder:\n",
        "    def __init__(self, model):\n",
        "        self.model = model\n",
        "        self.losses = []\n",
        "        self.lrs = []\n",
        "        self.best_loss = 1e9\n",
        "\n",
        "    def on_batch_end(self, batch, logs):\n",
        "        # Log the learning rate\n",
        "        # lr = K.get_value(self.model.optimizer.lr)\n",
        "        lr = keras.backend.get_value(self.model.optimizer.lr)\n",
        "        self.lrs.append(lr)\n",
        "\n",
        "        # Log the loss\n",
        "        loss = logs['loss']\n",
        "        self.losses.append(loss)\n",
        "\n",
        "        # Check whether the loss got too large or NaN\n",
        "        if batch > 5 and (math.isnan(loss) or loss > self.best_loss * 4):\n",
        "            self.model.stop_training = True\n",
        "            return\n",
        "\n",
        "        if loss < self.best_loss:\n",
        "            self.best_loss = loss\n",
        "\n",
        "        # Increase the learning rate for the next batch\n",
        "        lr *= self.lr_mult\n",
        "        # K.set_value(self.model.optimizer.lr, lr)\n",
        "        keras.backend.set_value(self.model.optimizer.lr, lr)\n",
        "\n",
        "    def find(self, x_train, y_train, start_lr, end_lr, batch_size=64, epochs=1, **kw_fit):\n",
        "        # If x_train contains data for multiple inputs, use length of the first input.\n",
        "        # Assumption: the first element in the list is single input; NOT a list of inputs.\n",
        "        N = x_train[0].shape[0] if isinstance(x_train, list) else x_train.shape[0]\n",
        "\n",
        "        # Compute number of batches and LR multiplier\n",
        "        num_batches = epochs * N / batch_size\n",
        "        self.lr_mult = (float(end_lr) / float(start_lr)) ** (float(1) / float(num_batches))\n",
        "        # Save weights into a file\n",
        "        initial_weights = self.model.get_weights()\n",
        "\n",
        "        # Remember the original learning rate\n",
        "        # original_lr = K.get_value(self.model.optimizer.lr)\n",
        "        original_lr = keras.backend.get_value(self.model.optimizer.lr)\n",
        "\n",
        "        # Set the initial learning rate\n",
        "        # K.set_value(self.model.optimizer.lr, start_lr)\n",
        "        keras.backend.set_value(self.model.optimizer.lr, start_lr)\n",
        "\n",
        "        callback = LambdaCallback(on_batch_end=lambda batch, logs: self.on_batch_end(batch, logs))\n",
        "\n",
        "        self.model.fit(x_train, y_train,\n",
        "                       batch_size=batch_size, epochs=epochs,\n",
        "                       callbacks=[callback],\n",
        "                       **kw_fit)\n",
        "\n",
        "        # Restore the weights to the state before model fitting\n",
        "        self.model.set_weights(initial_weights)\n",
        "\n",
        "        # Restore the original learning rate\n",
        "        # K.set_value(self.model.optimizer.lr, original_lr)\n",
        "        keras.backend.set_value(self.model.optimizer.lr, original_lr)\n",
        "\n",
        "    def find_generator(self, generator, start_lr, end_lr, epochs=1, steps_per_epoch=None, **kw_fit):\n",
        "        if steps_per_epoch is None:\n",
        "            try:\n",
        "                steps_per_epoch = len(generator)\n",
        "            except (ValueError, NotImplementedError) as e:\n",
        "                raise e('`steps_per_epoch=None` is only valid for a'\n",
        "                        ' generator based on the '\n",
        "                        '`keras.utils.Sequence`'\n",
        "                        ' class. Please specify `steps_per_epoch` '\n",
        "                        'or use the `keras.utils.Sequence` class.')\n",
        "        self.lr_mult = (float(end_lr) / float(start_lr)) ** (float(1) / float(epochs * steps_per_epoch))\n",
        "\n",
        "        # Save weights into a file\n",
        "        initial_weights = self.model.get_weights()\n",
        "\n",
        "        # Remember the original learning rate\n",
        "        # original_lr = K.get_value(self.model.optimizer.lr)\n",
        "        original_lr = keras.backend.get_value(self.model.optimizer.lr)\n",
        "\n",
        "        # Set the initial learning rate\n",
        "        # K.set_value(self.model.optimizer.lr, start_lr)\n",
        "        keras.backend.set_value(self.model.optimizer.lr, start_lr)\n",
        "\n",
        "        callback = LambdaCallback(on_batch_end=lambda batch,\n",
        "                                                      logs: self.on_batch_end(batch, logs))\n",
        "\n",
        "        self.model.fit_generator(generator=generator,\n",
        "                                 epochs=epochs,\n",
        "                                 steps_per_epoch=steps_per_epoch,\n",
        "                                 callbacks=[callback],\n",
        "                                 **kw_fit)\n",
        "\n",
        "        # Restore the weights to the state before model fitting\n",
        "        self.model.set_weights(initial_weights)\n",
        "\n",
        "        # Restore the original learning rate\n",
        "        # K.set_value(self.model.optimizer.lr, original_lr)\n",
        "        keras.backend.set_value(self.model.optimizer.lr, original_lr)\n",
        "\n",
        "    def plot_loss(self, n_skip_beginning=10, n_skip_end=5, x_scale='log'):\n",
        "        \"\"\"\n",
        "        Plots the loss.\n",
        "        Parameters:\n",
        "            n_skip_beginning - number of batches to skip on the left.\n",
        "            n_skip_end - number of batches to skip on the right.\n",
        "        \"\"\"\n",
        "        plt.ylabel(\"loss\")\n",
        "        plt.xlabel(\"learning rate (log scale)\")\n",
        "        plt.plot(self.lrs[n_skip_beginning:-n_skip_end], self.losses[n_skip_beginning:-n_skip_end])\n",
        "        plt.xscale(x_scale)\n",
        "        plt.show()\n",
        "\n",
        "    def plot_loss_change(self, sma=1, n_skip_beginning=10, n_skip_end=5, y_lim=(-0.01, 0.01)):\n",
        "        \"\"\"\n",
        "        Plots rate of change of the loss function.\n",
        "        Parameters:\n",
        "            sma - number of batches for simple moving average to smooth out the curve.\n",
        "            n_skip_beginning - number of batches to skip on the left.\n",
        "            n_skip_end - number of batches to skip on the right.\n",
        "            y_lim - limits for the y axis.\n",
        "        \"\"\"\n",
        "        derivatives = self.get_derivatives(sma)[n_skip_beginning:-n_skip_end]\n",
        "        lrs = self.lrs[n_skip_beginning:-n_skip_end]\n",
        "        plt.ylabel(\"rate of loss change\")\n",
        "        plt.xlabel(\"learning rate (log scale)\")\n",
        "        plt.plot(lrs, derivatives)\n",
        "        plt.xscale('log')\n",
        "        plt.ylim(y_lim)\n",
        "        plt.show()\n",
        "\n",
        "    def get_derivatives(self, sma):\n",
        "        assert sma >= 1\n",
        "        derivatives = [0] * sma\n",
        "        for i in range(sma, len(self.lrs)):\n",
        "            derivatives.append((self.losses[i] - self.losses[i - sma]) / sma)\n",
        "        return derivatives\n",
        "\n",
        "    def get_best_lr(self, sma, n_skip_beginning=10, n_skip_end=5):\n",
        "        derivatives = self.get_derivatives(sma)\n",
        "        best_der_idx = np.argmin(derivatives[n_skip_beginning:-n_skip_end])\n",
        "        return self.lrs[n_skip_beginning:-n_skip_end][best_der_idx]"
      ],
      "execution_count": 20,
      "outputs": []
    },
    {
      "cell_type": "code",
      "metadata": {
        "id": "PLW0oBtKOzjm"
      },
      "source": [
        "# TODO: instantiate model and compile with optimizer=\"sgd\"\n",
        "model_lrf = build_model()\n",
        "model_lrf.compile(optimizer=\"sgd\", loss=\"categorical_crossentropy\", metrics=[\"accuracy\"])"
      ],
      "execution_count": 21,
      "outputs": []
    },
    {
      "cell_type": "code",
      "metadata": {
        "id": "zomsOu59TPYM",
        "outputId": "62641df0-b4a0-4d1a-83bd-1d42de87105f",
        "colab": {
          "base_uri": "https://localhost:8080/",
          "height": 187
        }
      },
      "source": [
        "# TODO: instantiate the LRFinder and call find on it using a broad range of LR\n",
        "#       and 5 epochs of training\n",
        "lr_finder = LRFinder(model_lrf)\n",
        "lr_finder.find(Xtrain, ytrain, start_lr=1e-7, end_lr=1, batch_size=64, epochs=5)"
      ],
      "execution_count": 22,
      "outputs": [
        {
          "output_type": "stream",
          "text": [
            "Epoch 1/5\n",
            "782/782 [==============================] - 9s 12ms/step - loss: 2.6263 - accuracy: 0.1091\n",
            "Epoch 2/5\n",
            "782/782 [==============================] - 9s 12ms/step - loss: 2.6104 - accuracy: 0.1096\n",
            "Epoch 3/5\n",
            "782/782 [==============================] - 9s 12ms/step - loss: 2.3821 - accuracy: 0.1652\n",
            "Epoch 4/5\n",
            "782/782 [==============================] - 9s 12ms/step - loss: 1.5355 - accuracy: 0.4690\n",
            "Epoch 5/5\n",
            "782/782 [==============================] - 9s 12ms/step - loss: 1.3926 - accuracy: 0.5414\n"
          ],
          "name": "stdout"
        }
      ]
    },
    {
      "cell_type": "code",
      "metadata": {
        "id": "NK21OZuxPCjV",
        "outputId": "2171549c-2e6c-425f-b44c-47d6bc62dbbf",
        "colab": {
          "base_uri": "https://localhost:8080/",
          "height": 283
        }
      },
      "source": [
        "# TODO: plot the loss for LRFinder (call plot_loss())\n",
        "lr_finder.plot_loss(n_skip_beginning=20, n_skip_end=5)"
      ],
      "execution_count": 23,
      "outputs": [
        {
          "output_type": "display_data",
          "data": {
            "image/png": "[encoded data removed]",
            "text/plain": [
              "<Figure size 432x288 with 1 Axes>"
            ]
          },
          "metadata": {
            "tags": [],
            "needs_background": "light"
          }
        }
      ]
    },
    {
      "cell_type": "code",
      "metadata": {
        "id": "tirfWvvxPECW",
        "outputId": "ffa829e2-b8cc-4e4a-dfb8-5bdb2dd73805",
        "colab": {
          "base_uri": "https://localhost:8080/",
          "height": 287
        }
      },
      "source": [
        "# TODO: plot the change of loss for LRFinder (call plot_loss_change())\n",
        "lr_finder.plot_loss_change(sma=20, n_skip_beginning=20, n_skip_end=5, y_lim=(-0.01, 0.01))"
      ],
      "execution_count": 24,
      "outputs": [
        {
          "output_type": "display_data",
          "data": {
            "image/png": "[encoded data removed]",
            "text/plain": [
              "<Figure size 432x288 with 1 Axes>"
            ]
          },
          "metadata": {
            "tags": [],
            "needs_background": "light"
          }
        }
      ]
    },
    {
      "cell_type": "markdown",
      "metadata": {
        "id": "DEyWV7YxQ-_-"
      },
      "source": [
        "Based on plots above, reasonable values for Learning Rate for CLR seem to be between 1e-3 and 1e-1."
      ]
    },
    {
      "cell_type": "markdown",
      "metadata": {
        "id": "4hMM_Yb9RO8N"
      },
      "source": [
        "## Task 7: Train with CLR"
      ]
    },
    {
      "cell_type": "code",
      "metadata": {
        "id": "WNvKDN_rQctl"
      },
      "source": [
        "%%bash\n",
        "(\n",
        "if [ ! -d \"CLR\" ]; then\n",
        "  git clone https://github.com/bckenstler/CLR\n",
        "fi\n",
        ")"
      ],
      "execution_count": 25,
      "outputs": []
    },
    {
      "cell_type": "code",
      "metadata": {
        "id": "XP894KlhRzTG"
      },
      "source": [
        "from CLR.clr_callback import CyclicLR\n",
        "\n",
        "batch_size = 128\n",
        "step_size = 4 * Xtrain.shape[0] // batch_size\n",
        "clr = CyclicLR(mode=\"triangular2\",\n",
        "               base_lr=1e-3,\n",
        "               max_lr=1e-1,\n",
        "               step_size=step_size)"
      ],
      "execution_count": 26,
      "outputs": []
    },
    {
      "cell_type": "code",
      "metadata": {
        "id": "nBlEApGWR4XD",
        "outputId": "7a8f5016-021d-40f8-c8b7-d1959e388e4f",
        "colab": {
          "base_uri": "https://localhost:8080/",
          "height": 377
        }
      },
      "source": [
        "# TODO: instantiate a model, compile with SGD optimizer, categorical cross entropy loss,\n",
        "#       and accuracy metric, then train it for 10 epochs with batch size 64 and validation\n",
        "#       split of 20%. Remember to set the CLR as your learning rate scheduler callback.\n",
        "#       Also remember that you need to use data augmentation.\n",
        "model_t3 = build_model()\n",
        "\n",
        "model_t3.compile(optimizer=\"sgd\", loss=\"categorical_crossentropy\", metrics=[\"accuracy\"])\n",
        "history_t3 = model_t3.fit(image_generator.flow(X_train, y_train, batch_size=64),\n",
        "                          steps_per_epoch=X_train.shape[0] // 64,\n",
        "                          epochs=10, \n",
        "                          validation_data=(X_val, y_val),\n",
        "                          callbacks=[clr])"
      ],
      "execution_count": 27,
      "outputs": [
        {
          "output_type": "stream",
          "text": [
            "Epoch 1/10\n",
            "625/625 [==============================] - 23s 37ms/step - loss: 1.7305 - accuracy: 0.3924 - val_loss: 1.1807 - val_accuracy: 0.5905\n",
            "Epoch 2/10\n",
            "625/625 [==============================] - 22s 36ms/step - loss: 1.4086 - accuracy: 0.5066 - val_loss: 1.1302 - val_accuracy: 0.5994\n",
            "Epoch 3/10\n",
            "625/625 [==============================] - 23s 36ms/step - loss: 1.3897 - accuracy: 0.5141 - val_loss: 1.1036 - val_accuracy: 0.6081\n",
            "Epoch 4/10\n",
            "625/625 [==============================] - 23s 36ms/step - loss: 1.2963 - accuracy: 0.5375 - val_loss: 1.0266 - val_accuracy: 0.6333\n",
            "Epoch 5/10\n",
            "625/625 [==============================] - 23s 36ms/step - loss: 1.2285 - accuracy: 0.5635 - val_loss: 1.0057 - val_accuracy: 0.6428\n",
            "Epoch 6/10\n",
            "625/625 [==============================] - 22s 36ms/step - loss: 1.2128 - accuracy: 0.5676 - val_loss: 1.0072 - val_accuracy: 0.6427\n",
            "Epoch 7/10\n",
            "625/625 [==============================] - 23s 36ms/step - loss: 1.2233 - accuracy: 0.5627 - val_loss: 1.0012 - val_accuracy: 0.6397\n",
            "Epoch 8/10\n",
            "625/625 [==============================] - 23s 37ms/step - loss: 1.2328 - accuracy: 0.5598 - val_loss: 1.0074 - val_accuracy: 0.6428\n",
            "Epoch 9/10\n",
            "625/625 [==============================] - 23s 36ms/step - loss: 1.2023 - accuracy: 0.5738 - val_loss: 0.9861 - val_accuracy: 0.6538\n",
            "Epoch 10/10\n",
            "625/625 [==============================] - 23s 36ms/step - loss: 1.1846 - accuracy: 0.5797 - val_loss: 0.9796 - val_accuracy: 0.6559\n"
          ],
          "name": "stdout"
        }
      ]
    },
    {
      "cell_type": "code",
      "metadata": {
        "id": "n6Nm8hBSS2r5",
        "outputId": "fbb183b7-74ba-41a5-b996-8dd48063f942",
        "colab": {
          "base_uri": "https://localhost:8080/",
          "height": 369
        }
      },
      "source": [
        "# TODO: plot the loss and accuracy plots for your training\n",
        "plot_training_curves(history_t3)"
      ],
      "execution_count": 28,
      "outputs": [
        {
          "output_type": "display_data",
          "data": {
            "image/png": "[encoded data removed]",
            "text/plain": [
              "<Figure size 720x360 with 2 Axes>"
            ]
          },
          "metadata": {
            "tags": [],
            "needs_background": "light"
          }
        }
      ]
    },
    {
      "cell_type": "markdown",
      "metadata": {
        "id": "t4MeLkHsUKVD"
      },
      "source": [
        "## Task 8: Evaluate CLR based training"
      ]
    },
    {
      "cell_type": "code",
      "metadata": {
        "id": "CcMn_J9bUHha",
        "outputId": "ca631a8b-1b4d-4a78-be15-ee4b23acb7c2",
        "colab": {
          "base_uri": "https://localhost:8080/",
          "height": 51
        }
      },
      "source": [
        "# TODO: evaluate the network you just trained\n",
        "scores_t3 = model_t3.evaluate(Xtest, ytest)\n",
        "print(\"Model T1: test set loss: {:.5f}, accuracy: {:.5f}\".format(scores_t3[0], scores_t3[1]))"
      ],
      "execution_count": 29,
      "outputs": [
        {
          "output_type": "stream",
          "text": [
            "313/313 [==============================] - 3s 8ms/step - loss: 0.9923 - accuracy: 0.6554\n",
            "Model T1: test set loss: 0.99228, accuracy: 0.65540\n"
          ],
          "name": "stdout"
        }
      ]
    },
    {
      "cell_type": "markdown",
      "metadata": {
        "id": "AaKhspC3UbQI"
      },
      "source": [
        "## Task 9: Summarize your findings"
      ]
    },
    {
      "cell_type": "code",
      "metadata": {
        "id": "uUKdg08yUYnU"
      },
      "source": [
        "def plot_accuracies(methods, histories):\n",
        "  train_accs, val_accs = [], []\n",
        "  for method, history in zip(methods, histories):\n",
        "    train_accs.append(history.history[\"accuracy\"][-1])\n",
        "    val_accs.append(history.history[\"val_accuracy\"][-1])\n",
        "\n",
        "  xs = np.arange(len(methods))\n",
        "  width = 0.35\n",
        "  plt.bar(xs, train_accs, width, color=\"b\", label=\"train\")\n",
        "  plt.bar(xs+width, val_accs, width, color=\"orange\", label=\"val\")\n",
        "  plt.axhline(y=train_accs[0], linestyle=\"--\", color=\"b\", xmin=0, xmax=1)\n",
        "  plt.axhline(y=val_accs[0], linestyle=\"--\", color=\"orange\", xmin=0, xmax=1)\n",
        "  plt.ylabel(\"accuracy\")\n",
        "  plt.xticks(xs, methods, rotation=90)\n",
        "  plt.legend(loc=\"best\")\n",
        "  _ = plt.show()\n",
        "\n",
        "def list_scores(methods, scores):\n",
        "  for method, score in zip(methods, scores):\n",
        "    print(\"{:s}: {:.5f}\".format(method, score[1]))"
      ],
      "execution_count": 30,
      "outputs": []
    },
    {
      "cell_type": "code",
      "metadata": {
        "id": "GUylKTDRW2LV"
      },
      "source": [
        "tasks = [\"vgg16\", \"vgg16+data\", \"vgg16+data+clr\"]\n",
        "\n",
        "# TODO: create a list of history and score objects similar to tasks above\n",
        "histories = [history_t1, history_t2, history_t3]\n",
        "scores = [scores_t1, scores_t2, scores_t3]"
      ],
      "execution_count": 31,
      "outputs": []
    },
    {
      "cell_type": "code",
      "metadata": {
        "id": "1LtrIn-LXGRB",
        "outputId": "716dd390-970e-420c-877e-27beeb4658a5",
        "colab": {
          "base_uri": "https://localhost:8080/",
          "height": 338
        }
      },
      "source": [
        "# TODO: plot the training and validation accuracies for each training;\n",
        "#       call plot_accuracies()\n",
        "plot_accuracies(tasks, histories)"
      ],
      "execution_count": 32,
      "outputs": [
        {
          "output_type": "display_data",
          "data": {
            "image/png": "[encoded data removed]",
            "text/plain": [
              "<Figure size 432x288 with 1 Axes>"
            ]
          },
          "metadata": {
            "tags": [],
            "needs_background": "light"
          }
        }
      ]
    },
    {
      "cell_type": "code",
      "metadata": {
        "id": "9ft90EteXbLq",
        "outputId": "93cc8c69-9ea4-43fe-ce55-cc79cef131bc",
        "colab": {
          "base_uri": "https://localhost:8080/",
          "height": 68
        }
      },
      "source": [
        "# TODO: list final test set evaluation scores for each trained model;\n",
        "#       call list_scores()\n",
        "list_scores(tasks, scores)"
      ],
      "execution_count": 33,
      "outputs": [
        {
          "output_type": "stream",
          "text": [
            "vgg16: 0.68230\n",
            "vgg16+data: 0.66000\n",
            "vgg16+data+clr: 0.65540\n"
          ],
          "name": "stdout"
        }
      ]
    },
    {
      "cell_type": "code",
      "metadata": {
        "id": "F0lAmSfFXzn0"
      },
      "source": [
        ""
      ],
      "execution_count": 33,
      "outputs": []
    }
  ]
}