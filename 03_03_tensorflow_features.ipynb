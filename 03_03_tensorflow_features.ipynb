{
  "nbformat": 4,
  "nbformat_minor": 0,
  "metadata": {
    "colab": {
      "name": "03-02-tensorflow-features.ipynb",
      "provenance": [],
      "collapsed_sections": [],
      "authorship_tag": "ABX9TyMR5WUjk1O5WLA4Rsn6VGzG",
      "include_colab_link": true
    },
    "kernelspec": {
      "name": "python3",
      "display_name": "Python 3"
    },
    "accelerator": "GPU"
  },
  "cells": [
    {
      "cell_type": "markdown",
      "metadata": {
        "id": "view-in-github",
        "colab_type": "text"
      },
      "source": [
        "<a href=\"https://colab.research.google.com/github/sujitpal/keras-tutorial-osdc2020/blob/master/03_02_tensorflow_features.ipynb\" target=\"_parent\"><img src=\"https://colab.research.google.com/assets/colab-badge.svg\" alt=\"Open In Colab\"/></a>"
      ]
    },
    {
      "cell_type": "markdown",
      "metadata": {
        "id": "nYFblvDvaHgD"
      },
      "source": [
        "# Using underlying Tensorflow features\n",
        "\n",
        "In this session, we will look at some interesting Tensorflow features that you should know as a `tf.keras` developer. The \"old\" Keras used to provide a set of `keras.backend` functions that would delegate to the appropriate Tensorflow or Theano function.\n",
        "\n",
        "Because `tf.keras` has only a single backend, the entire Tensorflow library is at your disposal for customizing Keras. The old backend functions are still available via the `tf.keras.backend` package, but chances are very high that it maps 1:1 to an actual TF function.\n",
        "\n",
        "We will cover the following:\n",
        "* tf.data.Dataset\n",
        "* tf.GradientTape and @tf.function\n",
        "* Distributed training using tf.strategy\n",
        "\n",
        "__NOTE__: remember to set your runtime type to GPU for this notebook."
      ]
    },
    {
      "cell_type": "code",
      "metadata": {
        "id": "3EmDdwqEK5UO"
      },
      "source": [
        "import matplotlib.pyplot as plt\n",
        "import numpy as np\n",
        "\n",
        "import tensorflow as tf\n",
        "import tensorflow.keras as keras\n",
        "\n",
        "import time\n",
        "\n",
        "%matplotlib inline"
      ],
      "execution_count": 1,
      "outputs": []
    },
    {
      "cell_type": "markdown",
      "metadata": {
        "id": "wQlH5MPQodEz"
      },
      "source": [
        "## tf.data.Dataset\n",
        "\n",
        "Tensorflow allows you to create iterators over your data, and Keras can consume these Dataset objects instead of Numpy matrices (such as `(Xtrain, ytrain)` pairs we were using so far).\n",
        "\n",
        "You can create Datasets from various things, [full list is here](https://www.tensorflow.org/api_docs/python/tf/data/Dataset), common ones are:\n",
        "\n",
        "* `Dataset.from_tensor_slices`\n",
        "* `Dataset.from_generator`\n",
        "\n",
        "Dataset is an iterator, so full dataset does not need to fit in memory.\n",
        "\n",
        "General pattern:\n",
        "* Create dataset from input data.\n",
        "* Apply transformations (shuffle, batch, etc) on the data.\n",
        "* Consume the data in streaming manner.\n"
      ]
    },
    {
      "cell_type": "code",
      "metadata": {
        "id": "Xn8AVq92ADba",
        "outputId": "0f74c0be-d142-470b-983c-687f8920cb53",
        "colab": {
          "base_uri": "https://localhost:8080/",
          "height": 34
        }
      },
      "source": [
        "(Xtrain, ytrain), _ = keras.datasets.mnist.load_data()\n",
        "\n",
        "Xtrain = Xtrain.reshape(Xtrain.shape[0], 28, 28, 1).astype(np.float32)\n",
        "ytrain = keras.utils.to_categorical(ytrain, num_classes=10)\n",
        "\n",
        "train_ds = tf.data.Dataset.from_tensor_slices((Xtrain, ytrain)).shuffle(len(Xtrain)).batch(32)\n",
        "\n",
        "for Xtrain_b, ytrain_b in train_ds:\n",
        "  print(Xtrain_b.shape, ytrain_b.shape)\n",
        "  break"
      ],
      "execution_count": 2,
      "outputs": [
        {
          "output_type": "stream",
          "text": [
            "(32, 28, 28, 1) (32, 10)\n"
          ],
          "name": "stdout"
        }
      ]
    },
    {
      "cell_type": "markdown",
      "metadata": {
        "id": "FcW-EPptA8M8"
      },
      "source": [
        "You can also apply various transformations to a dataset. For example, if we want to resize each of these images, we could do something as shown below.\n",
        "\n",
        "Other transformations are __filter__, __enumerate__, __flat_map__, etc.\n",
        "\n",
        "Note that the parameter to `lambda` should mirror the structure of the dataset element."
      ]
    },
    {
      "cell_type": "code",
      "metadata": {
        "id": "zJMy7-ZbGAtO",
        "outputId": "e1a17153-956d-4d37-f08a-28a3f0840795",
        "colab": {
          "base_uri": "https://localhost:8080/",
          "height": 34
        }
      },
      "source": [
        "def resize_image(x, y):\n",
        "  image = tf.image.resize(x, (32, 32))\n",
        "  return (image, y)\n",
        "\n",
        "train_ds = tf.data.Dataset.from_tensor_slices((Xtrain, ytrain)).batch(32)\n",
        "resized_ds = train_ds.map(lambda x, y: resize_image(x, y))\n",
        "for X, y in resized_ds:\n",
        "  print(X.shape, y.shape)\n",
        "  break\n"
      ],
      "execution_count": 3,
      "outputs": [
        {
          "output_type": "stream",
          "text": [
            "(32, 32, 32, 1) (32, 10)\n"
          ],
          "name": "stdout"
        }
      ]
    },
    {
      "cell_type": "markdown",
      "metadata": {
        "id": "Wzta-n83KsFR"
      },
      "source": [
        "Another option could be to wrap the Keras `ImageDataGenerator` with a Dataset, so that way we have a data stream of augmented images.\n",
        "\n",
        "* Declare a `ImageDataGenerator`\n",
        "* Define an iterator using `ImageDataGenerator.flow`.\n",
        "* Create `Dataset` with `from_generator`, passing the iterator to the function via a lambda.\n",
        "\n",
        "You can call `repeat(n)` on the Dataset to get the benefit of real data augmentation, i.e. repeat(10) will given you 10x the data (original + random augmented according to your configuration of `ImageDataGenerator`)."
      ]
    },
    {
      "cell_type": "code",
      "metadata": {
        "id": "CQGEx_fJK9Ui",
        "outputId": "87e89f40-9baa-41e5-92f6-9b398dc33bc9",
        "colab": {
          "base_uri": "https://localhost:8080/",
          "height": 34
        }
      },
      "source": [
        "image_augmenter = keras.preprocessing.image.ImageDataGenerator(\n",
        "    rotation_range=30,\n",
        "    width_shift_range=0.2,\n",
        "    height_shift_range=0.2,\n",
        "    horizontal_flip=True)\n",
        "\n",
        "BATCH_SIZE = 32\n",
        "data_generator = image_augmenter.flow(Xtrain, ytrain, batch_size=BATCH_SIZE)\n",
        "\n",
        "train_ds = tf.data.Dataset.from_generator(\n",
        "    lambda: data_generator,\n",
        "    output_types=(tf.float32, tf.float32),\n",
        "    output_shapes=([BATCH_SIZE, 28, 28, 1],\n",
        "                   [BATCH_SIZE, 10])\n",
        ")\n",
        "\n",
        "for X, y in train_ds:\n",
        "  print(X.shape, y.shape)\n",
        "  break\n"
      ],
      "execution_count": 4,
      "outputs": [
        {
          "output_type": "stream",
          "text": [
            "(32, 28, 28, 1) (32, 10)\n"
          ],
          "name": "stdout"
        }
      ]
    },
    {
      "cell_type": "code",
      "metadata": {
        "id": "wtHe56n3MAGV",
        "outputId": "46f4780a-0ce8-4ff0-e4e3-b48a1e63d0c0",
        "colab": {
          "base_uri": "https://localhost:8080/",
          "height": 34
        }
      },
      "source": [
        "Xtrain.shape"
      ],
      "execution_count": 5,
      "outputs": [
        {
          "output_type": "execute_result",
          "data": {
            "text/plain": [
              "(60000, 28, 28, 1)"
            ]
          },
          "metadata": {
            "tags": []
          },
          "execution_count": 5
        }
      ]
    },
    {
      "cell_type": "markdown",
      "metadata": {
        "id": "nTXDAG4tLM7e"
      },
      "source": [
        "## tf.GradientTape and @tf.function\n",
        "\n",
        "When you need more control over the training loop than calling `fit` on your Keras model, then you can use `tf.GradientTape` which allows for automatic differentiation.\n",
        "\n",
        "The `@tf.function` annotation is meant to put the training loop in \"compiled-mode\", i.e., in non-eager mode.\n",
        "\n",
        "A good example for when you might want more control over the training loop is with a Generative Adversarial Network (GAN)."
      ]
    },
    {
      "cell_type": "markdown",
      "metadata": {
        "id": "w9jhrdrOPDem"
      },
      "source": [
        "### Generative Adversarial Network (GAN)\n",
        "\n",
        "A GAN consists of __two competing networks__ -- a generator and a discriminator - that are trained in an __adversarial manner__.\n",
        "\n",
        "Generator learns to create output that looks real, and discriminator learns to tell real from fake output.\n",
        "\n",
        "As training progresses, generator learns to create output that looks more and more real, and discriminator gets better at telling them apart.\n",
        "\n",
        "The training converges when there is no more improvement in the discriminator.\n",
        "\n",
        "The example here is adapted from the [Tensorflow tutorial on DCGAN](https://www.tensorflow.org/tutorials/generative/dcgan)."
      ]
    },
    {
      "cell_type": "code",
      "metadata": {
        "id": "o1V2Nv-KLJ1B",
        "outputId": "72dfc6f9-d497-434e-b4cd-bd609f7e8698",
        "colab": {
          "base_uri": "https://localhost:8080/",
          "height": 34
        }
      },
      "source": [
        "# NOTE: we are not using labels here, at all\n",
        "(Xtrain, _), (_, _) = keras.datasets.mnist.load_data()\n",
        "\n",
        "Xtrain.shape"
      ],
      "execution_count": 6,
      "outputs": [
        {
          "output_type": "execute_result",
          "data": {
            "text/plain": [
              "(60000, 28, 28)"
            ]
          },
          "metadata": {
            "tags": []
          },
          "execution_count": 6
        }
      ]
    },
    {
      "cell_type": "code",
      "metadata": {
        "id": "mL1hd9kvXnvD"
      },
      "source": [
        "NOISE_DIM = 100\n",
        "BATCH_SIZE = 256\n",
        "NUM_EPOCHS = 50"
      ],
      "execution_count": 7,
      "outputs": []
    },
    {
      "cell_type": "code",
      "metadata": {
        "id": "H8Ovk4xRR78k"
      },
      "source": [
        "# reshape images to add channel and set type to float\n",
        "Xtrain = Xtrain.reshape(Xtrain.shape[0], 28, 28, 1).astype(np.float32)\n",
        "\n",
        "# normalize pixel values to the range [-1, 1]\n",
        "Xtrain = (Xtrain - 127.5) / 127.5\n",
        "\n",
        "# convert to tf Dataset\n",
        "train_ds = tf.data.Dataset.from_tensor_slices(Xtrain).shuffle(len(Xtrain)).batch(BATCH_SIZE)"
      ],
      "execution_count": 8,
      "outputs": []
    },
    {
      "cell_type": "markdown",
      "metadata": {
        "id": "LCztiHC_VtvO"
      },
      "source": [
        "Both the generator and discriminator are convolutional models.\n",
        "\n",
        "The [Conv2DTranspose layer](https://www.tensorflow.org/api_docs/python/tf/keras/layers/Conv2DTranspose) is the inverse operation of Convolution, and is sometimes called Deconvolution. Instead of summarizing an area of the image into a smaller but deeper tensor, it expands a small deep tensor into a flatter larger one.\n",
        "\n",
        "So the generator takes a (batch of) random vectors and tries to produce a (batch of) images of shape (None, 28, 28, 1), here None is the batch dimension.\n",
        "\n",
        "The discriminator takes the generated image and tries to predict a number between 0 and 1, which gets converted to 0 (fake) or 1 (true) by the Binary Cross Entropy loss function.\n"
      ]
    },
    {
      "cell_type": "markdown",
      "metadata": {
        "id": "tgVd0C3dj8oQ"
      },
      "source": [
        "### Models"
      ]
    },
    {
      "cell_type": "code",
      "metadata": {
        "id": "Bn5VhyizSQF0"
      },
      "source": [
        "def build_generator():\n",
        "    model = keras.models.Sequential()\n",
        "    model.add(keras.layers.Dense(7*7*256, use_bias=False, input_shape=(NOISE_DIM,)))\n",
        "    model.add(keras.layers.BatchNormalization())\n",
        "    model.add(keras.layers.LeakyReLU())\n",
        "\n",
        "    model.add(keras.layers.Reshape((7, 7, 256)))\n",
        "    assert model.output_shape == (None, 7, 7, 256) # Note: None is the batch size\n",
        "\n",
        "    model.add(keras.layers.Conv2DTranspose(\n",
        "        128, (5, 5), strides=(1, 1), padding='same', use_bias=False))\n",
        "    assert model.output_shape == (None, 7, 7, 128)\n",
        "    model.add(keras.layers.BatchNormalization())\n",
        "    model.add(keras.layers.LeakyReLU())\n",
        "\n",
        "    model.add(keras.layers.Conv2DTranspose(\n",
        "        64, (5, 5), strides=(2, 2), padding='same', use_bias=False))\n",
        "    assert model.output_shape == (None, 14, 14, 64)\n",
        "    model.add(keras.layers.BatchNormalization())\n",
        "    model.add(keras.layers.LeakyReLU())\n",
        "\n",
        "    model.add(keras.layers.Conv2DTranspose(\n",
        "        1, (5, 5), strides=(2, 2), padding='same', use_bias=False, activation='tanh'))\n",
        "    assert model.output_shape == (None, 28, 28, 1)\n",
        "\n",
        "    return model\n",
        "\n",
        "\n",
        "def build_discriminator():\n",
        "    model = keras.models.Sequential()\n",
        "    model.add(keras.layers.Conv2D(64, (5, 5), strides=(2, 2), padding='same',\n",
        "                            input_shape=[28, 28, 1]))\n",
        "    model.add(keras.layers.LeakyReLU())\n",
        "    model.add(keras.layers.Dropout(0.3))\n",
        "\n",
        "    model.add(keras.layers.Conv2D(128, (5, 5), strides=(2, 2), padding='same'))\n",
        "    model.add(keras.layers.LeakyReLU())\n",
        "    model.add(keras.layers.Dropout(0.3))\n",
        "\n",
        "    model.add(keras.layers.Flatten())\n",
        "    model.add(keras.layers.Dense(1))\n",
        "\n",
        "    return model\n"
      ],
      "execution_count": 9,
      "outputs": []
    },
    {
      "cell_type": "markdown",
      "metadata": {
        "id": "I66Rh4FFj_IS"
      },
      "source": [
        "### Loss functions and optimizers\n",
        "\n",
        "The discriminator loss quantifies how well discriminator is able to distinguish real from fake, so it is a combination of the difference between discriminator predictions on real images to an array of 1s, and discriminator predictions on fake (generated) images to an array of 0s.\n",
        "\n",
        "The generator loss quantifies how well it was able to trick the discriminator. So if generator is performing well, it should be able to trick the discriminator completely. So the loss is measured as the difference between the discriminator predictions against fake images generated by generator against an array of 1s.\n",
        "\n",
        "For both generator and discriminator, the optimizer we choose is Adam with learning rate 1e-4."
      ]
    },
    {
      "cell_type": "code",
      "metadata": {
        "id": "9lCMhwvRWXUn"
      },
      "source": [
        "cross_entropy = tf.keras.losses.BinaryCrossentropy(from_logits=True)\n",
        "\n",
        "\n",
        "def discriminator_loss(real_output, fake_output):\n",
        "    real_loss = cross_entropy(tf.ones_like(real_output), real_output)\n",
        "    fake_loss = cross_entropy(tf.zeros_like(fake_output), fake_output)\n",
        "    total_loss = real_loss + fake_loss\n",
        "    return total_loss\n",
        "\n",
        "\n",
        "def generator_loss(fake_output):\n",
        "    return cross_entropy(tf.ones_like(fake_output), fake_output)\n",
        "\n",
        "\n",
        "generator_optimizer = tf.keras.optimizers.Adam(1e-4)\n",
        "discriminator_optimizer = tf.keras.optimizers.Adam(1e-4)"
      ],
      "execution_count": 10,
      "outputs": []
    },
    {
      "cell_type": "markdown",
      "metadata": {
        "id": "7DXqDArYkCbg"
      },
      "source": [
        "### Training loop\n",
        "\n",
        "Notice the following:\n",
        "\n",
        "* You have to specify `training=True` for the discriminator and generator. In (high level) Keras, this is set by Keras depending on whether you call `fit` or `predict` (or `evaluate`).\n",
        "* You have to compute the loss by applying the appropriate loss function to the output of the model.\n",
        "* You have to compute and apply the gradient of the loss back into the model using `optimizer.apply_gradients()`.\n",
        "\n",
        "The `train` function just calls the `train_step` function for the given number of epochs and writes out some progress information."
      ]
    },
    {
      "cell_type": "code",
      "metadata": {
        "id": "K1_HBzBwWx3H"
      },
      "source": [
        "@tf.function\n",
        "def train_step(images, generator, discriminator):\n",
        "    noise = tf.random.normal([BATCH_SIZE, NOISE_DIM])\n",
        "\n",
        "    with tf.GradientTape() as gen_tape, tf.GradientTape() as disc_tape:\n",
        "      generated_images = generator(noise, training=True)\n",
        "\n",
        "      real_output = discriminator(images, training=True)\n",
        "      fake_output = discriminator(generated_images, training=True)\n",
        "\n",
        "      gen_loss = generator_loss(fake_output)\n",
        "      disc_loss = discriminator_loss(real_output, fake_output)\n",
        "\n",
        "    gradients_of_generator = gen_tape.gradient(gen_loss, generator.trainable_variables)\n",
        "    gradients_of_discriminator = disc_tape.gradient(disc_loss, discriminator.trainable_variables)\n",
        "\n",
        "    generator_optimizer.apply_gradients(\n",
        "        zip(gradients_of_generator, generator.trainable_variables))\n",
        "    discriminator_optimizer.apply_gradients(\n",
        "        zip(gradients_of_discriminator, discriminator.trainable_variables))\n"
      ],
      "execution_count": 11,
      "outputs": []
    },
    {
      "cell_type": "code",
      "metadata": {
        "id": "uyZ5xSf0XCMe"
      },
      "source": [
        "def train(dataset, generator, discriminator, num_epochs):\n",
        "  for epoch in range(num_epochs):\n",
        "    start = time.time()\n",
        "\n",
        "    for image_batch in dataset:\n",
        "      train_step(image_batch, generator, discriminator)\n",
        "\n",
        "    print ('Time for epoch {} is {} sec'.format(epoch + 1, time.time()-start))\n"
      ],
      "execution_count": 12,
      "outputs": []
    },
    {
      "cell_type": "code",
      "metadata": {
        "id": "DZ-H4r2YXRBP",
        "outputId": "759b5047-a357-4f10-b5a3-44b2c3c3faa7",
        "colab": {
          "base_uri": "https://localhost:8080/",
          "height": 867
        }
      },
      "source": [
        "generator = build_generator()\n",
        "discriminator = build_discriminator()\n",
        "\n",
        "train(train_ds, generator, discriminator, NUM_EPOCHS)"
      ],
      "execution_count": 13,
      "outputs": [
        {
          "output_type": "stream",
          "text": [
            "Time for epoch 1 is 15.499709606170654 sec\n",
            "Time for epoch 2 is 12.36488938331604 sec\n",
            "Time for epoch 3 is 12.334033727645874 sec\n",
            "Time for epoch 4 is 12.39197325706482 sec\n",
            "Time for epoch 5 is 12.446723222732544 sec\n",
            "Time for epoch 6 is 12.505186557769775 sec\n",
            "Time for epoch 7 is 12.556689023971558 sec\n",
            "Time for epoch 8 is 12.587987422943115 sec\n",
            "Time for epoch 9 is 12.556865692138672 sec\n",
            "Time for epoch 10 is 12.515979051589966 sec\n",
            "Time for epoch 11 is 12.496025085449219 sec\n",
            "Time for epoch 12 is 12.530524492263794 sec\n",
            "Time for epoch 13 is 12.532690525054932 sec\n",
            "Time for epoch 14 is 12.54555606842041 sec\n",
            "Time for epoch 15 is 12.532935380935669 sec\n",
            "Time for epoch 16 is 12.537158966064453 sec\n",
            "Time for epoch 17 is 12.543369770050049 sec\n",
            "Time for epoch 18 is 12.546968698501587 sec\n",
            "Time for epoch 19 is 12.524719715118408 sec\n",
            "Time for epoch 20 is 12.565206289291382 sec\n",
            "Time for epoch 21 is 12.550827503204346 sec\n",
            "Time for epoch 22 is 12.536333084106445 sec\n",
            "Time for epoch 23 is 12.531394481658936 sec\n",
            "Time for epoch 24 is 12.5199453830719 sec\n",
            "Time for epoch 25 is 12.52411413192749 sec\n",
            "Time for epoch 26 is 12.519736766815186 sec\n",
            "Time for epoch 27 is 12.547183275222778 sec\n",
            "Time for epoch 28 is 12.546644449234009 sec\n",
            "Time for epoch 29 is 12.537126302719116 sec\n",
            "Time for epoch 30 is 12.54373049736023 sec\n",
            "Time for epoch 31 is 12.544822454452515 sec\n",
            "Time for epoch 32 is 12.558742761611938 sec\n",
            "Time for epoch 33 is 12.541484117507935 sec\n",
            "Time for epoch 34 is 12.54047155380249 sec\n",
            "Time for epoch 35 is 12.5652334690094 sec\n",
            "Time for epoch 36 is 12.557270288467407 sec\n",
            "Time for epoch 37 is 12.58246374130249 sec\n",
            "Time for epoch 38 is 12.551008462905884 sec\n",
            "Time for epoch 39 is 12.532562017440796 sec\n",
            "Time for epoch 40 is 12.546010255813599 sec\n",
            "Time for epoch 41 is 12.523802995681763 sec\n",
            "Time for epoch 42 is 12.539887189865112 sec\n",
            "Time for epoch 43 is 12.548108339309692 sec\n",
            "Time for epoch 44 is 12.560321807861328 sec\n",
            "Time for epoch 45 is 12.544503688812256 sec\n",
            "Time for epoch 46 is 12.532030582427979 sec\n",
            "Time for epoch 47 is 12.563827276229858 sec\n",
            "Time for epoch 48 is 12.561166524887085 sec\n",
            "Time for epoch 49 is 12.544692754745483 sec\n",
            "Time for epoch 50 is 12.557090282440186 sec\n"
          ],
          "name": "stdout"
        }
      ]
    },
    {
      "cell_type": "markdown",
      "metadata": {
        "id": "Pu1_KX8tm311"
      },
      "source": [
        "### What has the generator learned?\n",
        "\n",
        "The generator has learned how to take random input and produce images that look like MNIST digits.\n",
        "\n",
        "We give it a set of random vectors of size `NOISE_DIM=100` and call the generator with `training=False` to get our generated images.\n",
        "\n",
        "As you can see, the generated images kind of look like digits."
      ]
    },
    {
      "cell_type": "code",
      "metadata": {
        "id": "av9lz5QQXaBd",
        "outputId": "a7cf85fe-b688-40e3-eea2-ae31495a12fb",
        "colab": {
          "base_uri": "https://localhost:8080/",
          "height": 109
        }
      },
      "source": [
        "num_examples_to_generate = 8\n",
        "seeds = tf.random.normal([num_examples_to_generate, NOISE_DIM])\n",
        "preds = generator(seeds, training=False)\n",
        "\n",
        "plt.figure(figsize=(10, 5))\n",
        "for i in range(preds.shape[0]):\n",
        "  plt.subplot(1, 8, i+1)\n",
        "  plt.imshow(preds[i, :, :, 0], cmap=\"gray\")\n",
        "  plt.xticks([])\n",
        "  plt.yticks([])\n",
        "\n",
        "plt.tight_layout()\n",
        "_ = plt.show()\n"
      ],
      "execution_count": 14,
      "outputs": [
        {
          "output_type": "display_data",
          "data": {
            "image/png": "[encoded data removed]",
            "text/plain": [
              "<Figure size 720x360 with 8 Axes>"
            ]
          },
          "metadata": {
            "tags": []
          }
        }
      ]
    },
    {
      "cell_type": "markdown",
      "metadata": {
        "id": "GIFNIV4Uv88N"
      },
      "source": [
        "## Distributed Training\n",
        "\n",
        "Keras (and Tensorflow) allows you to define `strategies` to do distributed training. We will cover training on multiple GPUs on a single machine.\n",
        "\n",
        "This is the most common use case. AWS provides various GPU instances with upto 16 GPUs (P2, P3, G3, G4).\n",
        "\n",
        "Main approaches for distributing training:\n",
        "  * Data Parallelism -- model trains using part of the data on each GPU.\n",
        "  * Model Parallelism -- sub-models trained separately on each GPU.\n",
        "\n",
        "Two requirements:\n",
        "* For fault tolerance, it is recommended to use `ModelCheckpoint` callback to save the model periodically.\n",
        "* Also distributed training needs data to be provided as `tf.data.Datasets`.\n",
        "\n",
        "You can also train across a cluster of GPU enabled machines -- [see this document for more details](https://keras.io/guides/distributed_training/)."
      ]
    },
    {
      "cell_type": "code",
      "metadata": {
        "id": "P_RZNWFvyemA"
      },
      "source": [
        "from sklearn.model_selection import train_test_split\n",
        "\n",
        "(Xtrain, ytrain), (Xtest, ytest) = keras.datasets.mnist.load_data()\n",
        "\n",
        "Xtrain = Xtrain.reshape(Xtrain.shape[0], 28, 28, 1).astype(np.float32)\n",
        "Xtest = Xtest.reshape(Xtest.shape[0], 28, 28, 1).astype(np.float32)\n",
        "\n",
        "Xtrain = (Xtrain - 127.5) / 127.5\n",
        "Xtest = (Xtest - 127.5) / 127.5\n",
        "\n",
        "ytrain = keras.utils.to_categorical(ytrain)\n",
        "ytest = keras.utils.to_categorical(ytest)\n",
        "\n",
        "X_train, X_val, y_train, y_val = train_test_split(Xtrain, ytrain, test_size=0.2, random_state=1)\n",
        "\n",
        "train_ds = tf.data.Dataset.from_tensor_slices((X_train, y_train)).shuffle(len(Xtrain)).batch(BATCH_SIZE)\n",
        "val_ds = tf.data.Dataset.from_tensor_slices((X_val, y_val)).batch(BATCH_SIZE)\n",
        "test_ds = tf.data.Dataset.from_tensor_slices((Xtest, ytest)).batch(BATCH_SIZE)"
      ],
      "execution_count": 15,
      "outputs": []
    },
    {
      "cell_type": "code",
      "metadata": {
        "id": "Qm5j0GFIzWNA"
      },
      "source": [
        "def build_model():\n",
        "  model = keras.models.Sequential()\n",
        "  model.add(keras.layers.Conv2D(32, kernel_size=(3, 3), activation=\"relu\",\n",
        "                                input_shape=(28, 28, 1)))\n",
        "  model.add(keras.layers.GlobalMaxPooling2D())\n",
        "  model.add(keras.layers.Dense(10))\n",
        "  return model"
      ],
      "execution_count": 16,
      "outputs": []
    },
    {
      "cell_type": "markdown",
      "metadata": {
        "id": "BT9EtYp_wmnl"
      },
      "source": [
        "### Data Parallelism"
      ]
    },
    {
      "cell_type": "code",
      "metadata": {
        "id": "NZicg1bQbUkt",
        "outputId": "542cda59-3b9b-467b-bdc5-168e0fa6c09c",
        "colab": {
          "base_uri": "https://localhost:8080/",
          "height": 615
        }
      },
      "source": [
        "model_ckpt = keras.callbacks.ModelCheckpoint(\"/tmp/model_1\", save_best_only=True)\n",
        "\n",
        "strategy = tf.distribute.MirroredStrategy()\n",
        "with strategy.scope():\n",
        "  model = build_model()\n",
        "  model.compile(loss=\"categorical_crossentropy\", optimizer=\"adam\", metrics=[\"accuracy\"])\n",
        "model.fit(train_ds, epochs=5, validation_data=val_ds, callbacks=[model_ckpt])"
      ],
      "execution_count": 17,
      "outputs": [
        {
          "output_type": "stream",
          "text": [
            "INFO:tensorflow:Using MirroredStrategy with devices ('/job:localhost/replica:0/task:0/device:GPU:0',)\n",
            "Epoch 1/5\n",
            "WARNING:tensorflow:From /usr/local/lib/python3.6/dist-packages/tensorflow/python/data/ops/multi_device_iterator_ops.py:601: get_next_as_optional (from tensorflow.python.data.ops.iterator_ops) is deprecated and will be removed in a future version.\n",
            "Instructions for updating:\n",
            "Use `tf.data.Iterator.get_next_as_optional()` instead.\n",
            "INFO:tensorflow:Reduce to /job:localhost/replica:0/task:0/device:CPU:0 then broadcast to ('/job:localhost/replica:0/task:0/device:CPU:0',).\n",
            "INFO:tensorflow:Reduce to /job:localhost/replica:0/task:0/device:CPU:0 then broadcast to ('/job:localhost/replica:0/task:0/device:CPU:0',).\n",
            "INFO:tensorflow:Reduce to /job:localhost/replica:0/task:0/device:CPU:0 then broadcast to ('/job:localhost/replica:0/task:0/device:CPU:0',).\n",
            "INFO:tensorflow:Reduce to /job:localhost/replica:0/task:0/device:CPU:0 then broadcast to ('/job:localhost/replica:0/task:0/device:CPU:0',).\n",
            "INFO:tensorflow:Reduce to /job:localhost/replica:0/task:0/device:CPU:0 then broadcast to ('/job:localhost/replica:0/task:0/device:CPU:0',).\n",
            "INFO:tensorflow:Reduce to /job:localhost/replica:0/task:0/device:CPU:0 then broadcast to ('/job:localhost/replica:0/task:0/device:CPU:0',).\n",
            "INFO:tensorflow:Reduce to /job:localhost/replica:0/task:0/device:CPU:0 then broadcast to ('/job:localhost/replica:0/task:0/device:CPU:0',).\n",
            "INFO:tensorflow:Reduce to /job:localhost/replica:0/task:0/device:CPU:0 then broadcast to ('/job:localhost/replica:0/task:0/device:CPU:0',).\n",
            "185/188 [============================>.] - ETA: 0s - loss: 8.6308 - accuracy: 0.0823INFO:tensorflow:Reduce to /job:localhost/replica:0/task:0/device:CPU:0 then broadcast to ('/job:localhost/replica:0/task:0/device:CPU:0',).\n",
            "INFO:tensorflow:Reduce to /job:localhost/replica:0/task:0/device:CPU:0 then broadcast to ('/job:localhost/replica:0/task:0/device:CPU:0',).\n",
            "WARNING:tensorflow:From /usr/local/lib/python3.6/dist-packages/tensorflow/python/training/tracking/tracking.py:111: Model.state_updates (from tensorflow.python.keras.engine.training) is deprecated and will be removed in a future version.\n",
            "Instructions for updating:\n",
            "This property should not be used in TensorFlow 2.0, as updates are applied automatically.\n",
            "WARNING:tensorflow:From /usr/local/lib/python3.6/dist-packages/tensorflow/python/training/tracking/tracking.py:111: Layer.updates (from tensorflow.python.keras.engine.base_layer) is deprecated and will be removed in a future version.\n",
            "Instructions for updating:\n",
            "This property should not be used in TensorFlow 2.0, as updates are applied automatically.\n",
            "INFO:tensorflow:Assets written to: /tmp/model_1/assets\n",
            "188/188 [==============================] - 3s 17ms/step - loss: 8.6235 - accuracy: 0.0823 - val_loss: 7.8684 - val_accuracy: 0.0770\n",
            "Epoch 2/5\n",
            "187/188 [============================>.] - ETA: 0s - loss: 7.4918 - accuracy: 0.0805INFO:tensorflow:Assets written to: /tmp/model_1/assets\n",
            "188/188 [==============================] - 2s 10ms/step - loss: 7.4913 - accuracy: 0.0806 - val_loss: 7.3526 - val_accuracy: 0.0768\n",
            "Epoch 3/5\n",
            "182/188 [============================>.] - ETA: 0s - loss: 7.2990 - accuracy: 0.0804INFO:tensorflow:Assets written to: /tmp/model_1/assets\n",
            "188/188 [==============================] - 2s 10ms/step - loss: 7.2894 - accuracy: 0.0801 - val_loss: 7.2451 - val_accuracy: 0.0763\n",
            "Epoch 4/5\n",
            "188/188 [==============================] - 2s 8ms/step - loss: 7.3042 - accuracy: 0.0796 - val_loss: 7.5983 - val_accuracy: 0.0758\n",
            "Epoch 5/5\n",
            "188/188 [==============================] - 2s 8ms/step - loss: 7.5913 - accuracy: 0.0791 - val_loss: 7.5849 - val_accuracy: 0.0752\n"
          ],
          "name": "stdout"
        },
        {
          "output_type": "execute_result",
          "data": {
            "text/plain": [
              "<tensorflow.python.keras.callbacks.History at 0x7fc6562d8c50>"
            ]
          },
          "metadata": {
            "tags": []
          },
          "execution_count": 17
        }
      ]
    },
    {
      "cell_type": "markdown",
      "metadata": {
        "id": "3cz9AuRJ2DCn"
      },
      "source": [
        "### Model Parallelism"
      ]
    },
    {
      "cell_type": "code",
      "metadata": {
        "id": "OKQ7vid2xSwt"
      },
      "source": [
        "input_a = keras.Input(shape=(140, 256))\n",
        "input_b = keras.Input(shape=(140, 256))\n",
        "\n",
        "shared_lstm = keras.layers.LSTM(64)\n",
        "\n",
        "# Process the first sequence on one GPU\n",
        "with tf.device('/gpu:0'):\n",
        "    encoded_a = shared_lstm(input_a)\n",
        "# Process the next sequence on another GPU\n",
        "with tf.device('/gpu:1'):\n",
        "    encoded_b = shared_lstm(input_b)\n",
        "\n",
        "# Concatenate results on CPU\n",
        "with tf.device('/cpu:0'):\n",
        "    merged_vector = keras.layers.concatenate(\n",
        "        [encoded_a, encoded_b], axis=-1)\n"
      ],
      "execution_count": 18,
      "outputs": []
    }
  ]
}